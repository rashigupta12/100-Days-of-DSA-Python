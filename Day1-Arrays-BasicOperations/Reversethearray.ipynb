{
 "cells": [
  {
   "cell_type": "markdown",
   "id": "59eeb92d",
   "metadata": {
    "vscode": {
     "languageId": "plaintext"
    }
   },
   "source": [
    "Link - [https://www.geeksforgeeks.org/problems/reverse-an-array/1]"
   ]
  },
  {
   "cell_type": "code",
   "execution_count": null,
   "id": "5fdfc653",
   "metadata": {},
   "outputs": [
    {
     "name": "stdout",
     "output_type": "stream",
     "text": [
      "5 6 2 3 4 1 "
     ]
    }
   ],
   "source": [
    "# using dummy array\n",
    "def reverseArray(arr):\n",
    "  n = len(arr)\n",
    "  b = [0]*n\n",
    "  for i in range(n):\n",
    "    b[i] = arr[n-1-i]\n",
    "  for i in range(n):\n",
    "    arr[i] = b[i]\n",
    "  return arr\n",
    "\n",
    "if __name__ == \"__main__\":\n",
    "  arr = [1, 4, 3, 2, 6, 5]\n",
    "  reverseArray(arr)\n",
    "  \n",
    "  for i in range(len(arr)):\n",
    "    print(arr[i], end=\" \")\n",
    "            "
   ]
  },
  {
   "cell_type": "code",
   "execution_count": 1,
   "id": "1a367c53",
   "metadata": {},
   "outputs": [
    {
     "name": "stdout",
     "output_type": "stream",
     "text": [
      "5 6 2 3 4 1 "
     ]
    }
   ],
   "source": [
    "# Using Two Pointers - O(n) Time and O(1) Space\n",
    "\n",
    "def reverseArray(arr):\n",
    "  n = len(arr)\n",
    "  left = 0\n",
    "  right = n-1\n",
    "  while left <right:\n",
    "    arr[left], arr[right] = arr[right], arr[left]\n",
    "    left += 1\n",
    "    right -= 1\n",
    "\n",
    "if __name__ == \"__main__\":\n",
    "  arr = [1, 4, 3, 2, 6, 5]\n",
    "  reverseArray(arr)\n",
    "  \n",
    "  for i in range(len(arr)):\n",
    "    print(arr[i], end=\" \")"
   ]
  },
  {
   "cell_type": "code",
   "execution_count": 2,
   "id": "c7c83bb7",
   "metadata": {},
   "outputs": [
    {
     "name": "stdout",
     "output_type": "stream",
     "text": [
      "5 6 2 3 4 1 "
     ]
    }
   ],
   "source": [
    "# Recursive approach\n",
    "\n",
    "def reverseArrayRec(arr, start, end):\n",
    "  if start >= end:\n",
    "    return\n",
    "  arr[start], arr[end] = arr[end], arr[start]\n",
    "  reverseArrayRec(arr, start + 1, end - 1)\n",
    "\n",
    "\n",
    "def reverseArray(arr):\n",
    "  n = len(arr)\n",
    "  reverseArrayRec(arr , 0 , n-1)\n",
    "\n",
    " \n",
    "\n",
    "\n",
    "\n",
    "if __name__ == \"__main__\":\n",
    "  arr = [1, 4, 3, 2, 6, 5]\n",
    "  reverseArray(arr)\n",
    "  \n",
    "  for i in range(len(arr)):\n",
    "    print(arr[i], end=\" \")\n"
   ]
  },
  {
   "cell_type": "code",
   "execution_count": 3,
   "id": "0ca7d67a",
   "metadata": {},
   "outputs": [
    {
     "name": "stdout",
     "output_type": "stream",
     "text": [
      "5 6 2 3 4 1 "
     ]
    }
   ],
   "source": [
    "# Using Inbuilt Methods - O(n) Time and O(1) Space\n",
    "def reverseArray(arr):\n",
    "  arr.reverse()\n",
    "\n",
    "\n",
    "if __name__ == \"__main__\":\n",
    "  arr = [1, 4, 3, 2, 6, 5]\n",
    "  reverseArray(arr)\n",
    "  \n",
    "  for i in range(len(arr)):\n",
    "    print(arr[i], end=\" \")\n"
   ]
  },
  {
   "cell_type": "code",
   "execution_count": null,
   "id": "3fd01118",
   "metadata": {},
   "outputs": [],
   "source": []
  }
 ],
 "metadata": {
  "kernelspec": {
   "display_name": "Python 3",
   "language": "python",
   "name": "python3"
  },
  "language_info": {
   "codemirror_mode": {
    "name": "ipython",
    "version": 3
   },
   "file_extension": ".py",
   "mimetype": "text/x-python",
   "name": "python",
   "nbconvert_exporter": "python",
   "pygments_lexer": "ipython3",
   "version": "3.11.4"
  }
 },
 "nbformat": 4,
 "nbformat_minor": 5
}
