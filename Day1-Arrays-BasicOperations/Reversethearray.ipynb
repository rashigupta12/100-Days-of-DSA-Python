{
 "cells": [
  {
   "cell_type": "markdown",
   "id": "59eeb92d",
   "metadata": {
    "vscode": {
     "languageId": "plaintext"
    }
   },
   "source": [
    "Link - [https://www.geeksforgeeks.org/problems/reverse-an-array/1]"
   ]
  },
  {
   "cell_type": "code",
   "execution_count": 2,
   "id": "5fdfc653",
   "metadata": {},
   "outputs": [
    {
     "name": "stdout",
     "output_type": "stream",
     "text": [
      "5 6 2 3 4 1 "
     ]
    }
   ],
   "source": [
    "def reverseArray(arr):\n",
    "  n = len(arr)\n",
    "  b = [0]*n\n",
    "  for i in range(n):\n",
    "    b[i] = arr[n-1-i]\n",
    "  for i in range(n):\n",
    "    arr[i] = b[i]\n",
    "  return arr\n",
    "\n",
    "if __name__ == \"__main__\":\n",
    "  arr = [1, 4, 3, 2, 6, 5]\n",
    "  reverseArray(arr)\n",
    "  \n",
    "  for i in range(len(arr)):\n",
    "    print(arr[i], end=\" \")\n",
    "            "
   ]
  }
 ],
 "metadata": {
  "kernelspec": {
   "display_name": "Python 3",
   "language": "python",
   "name": "python3"
  },
  "language_info": {
   "codemirror_mode": {
    "name": "ipython",
    "version": 3
   },
   "file_extension": ".py",
   "mimetype": "text/x-python",
   "name": "python",
   "nbconvert_exporter": "python",
   "pygments_lexer": "ipython3",
   "version": "3.11.4"
  }
 },
 "nbformat": 4,
 "nbformat_minor": 5
}
