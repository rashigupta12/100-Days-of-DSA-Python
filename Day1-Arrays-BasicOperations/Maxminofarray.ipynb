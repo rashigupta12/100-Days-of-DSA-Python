{
 "cells": [
  {
   "cell_type": "markdown",
   "id": "abcada90",
   "metadata": {},
   "source": [
    "# Maximum and minimum of an array using minimum number of comparisons"
   ]
  },
  {
   "cell_type": "code",
   "execution_count": null,
   "id": "fb716962",
   "metadata": {},
   "outputs": [],
   "source": [
    "# Input: arr[] = {3, 5, 4, 1, 9}\n",
    "# Output: Minimum element is: 1\n",
    "#         Maximum element is: 9\n",
    "\n",
    "# Input: arr[] = {22, 14, 8, 17, 35, 3}\n",
    "# Output:  Minimum element is: 3\n",
    "#          Maximum element is: 35"
   ]
  },
  {
   "cell_type": "code",
   "execution_count": 2,
   "id": "bc642ac2",
   "metadata": {},
   "outputs": [
    {
     "name": "stdout",
     "output_type": "stream",
     "text": [
      "Minimum element is: 1\n",
      "Maximum element is: 3000\n"
     ]
    }
   ],
   "source": [
    "#using in built function\n",
    "def getMinMax(arr):\n",
    "   arr.sort()\n",
    "   return arr[0], arr[-1]\n",
    "\n",
    "arr = [1000, 11, 445, 1, 330, 3000]\n",
    "minmax = getMinMax(arr)\n",
    "print(\"Minimum element is:\", minmax[0])\n",
    "print(\"Maximum element is:\", minmax[1])"
   ]
  },
  {
   "cell_type": "code",
   "execution_count": 1,
   "id": "507016b2",
   "metadata": {},
   "outputs": [
    {
     "name": "stdout",
     "output_type": "stream",
     "text": [
      "Minimum element is: 1\n",
      "Maximum element is: 3000\n"
     ]
    }
   ],
   "source": [
    "#using in Linear search\n",
    "\n",
    "def setmax(arr):\n",
    "  min = arr[0]\n",
    "  for i in range (1 , len(arr)):\n",
    "    if arr[i] <min:\n",
    "      min = arr[i]\n",
    "  return min\n",
    "  \n",
    " \n",
    "def setmin(arr):\n",
    "  max = arr[0]\n",
    "  for i in range(1, len(arr)):\n",
    "    if arr[i] > max:\n",
    "      max = arr[i]\n",
    "  return max\n",
    " \n",
    "def getMinMax(arr):\n",
    " max = setmax(arr)\n",
    " min = setmin(arr)\n",
    " return max , min\n",
    "  \n",
    "\n",
    "arr = [1000, 11, 445, 1, 330, 3000]\n",
    "minmax = getMinMax(arr)\n",
    "print(\"Minimum element is:\", minmax[0])\n",
    "print(\"Maximum element is:\", minmax[1])"
   ]
  },
  {
   "cell_type": "code",
   "execution_count": 4,
   "id": "b84067d5",
   "metadata": {},
   "outputs": [
    {
     "name": "stdout",
     "output_type": "stream",
     "text": [
      "Minimum element is 1\n",
      "Maximum element is 3000\n"
     ]
    }
   ],
   "source": [
    "def getMinMax(arr, n):\n",
    "   \n",
    "\n",
    "    if n == 1:\n",
    "        return arr[0] , arr[0]\n",
    "    \n",
    "    if arr[0] > arr[1]:\n",
    "      max = arr[0]\n",
    "      min = arr[1]\n",
    "    else:\n",
    "      min = arr[0]\n",
    "      max = arr[1]\n",
    "    \n",
    "    for i in range (2, n ):\n",
    "      if arr[i] > max :\n",
    "        max = arr[i]\n",
    "      elif arr[i] < min:\n",
    "        min = arr[i] \n",
    "    return min , max\n",
    "\n",
    "    \n",
    "\n",
    "\n",
    "if __name__ == \"__main__\":\n",
    "    arr = [1000, 11, 445, 1, 330, 3000]\n",
    "    arr_size = 6\n",
    "    minmax = getMinMax(arr, arr_size)\n",
    "    print(\"Minimum element is\", minmax[0])\n",
    "    print(\"Maximum element is\", minmax[1])\n"
   ]
  },
  {
   "cell_type": "code",
   "execution_count": null,
   "id": "6d8722cc",
   "metadata": {},
   "outputs": [
    {
     "ename": "TypeError",
     "evalue": "'<' not supported between instances of 'int' and 'builtin_function_or_method'",
     "output_type": "error",
     "traceback": [
      "\u001b[1;31m---------------------------------------------------------------------------\u001b[0m",
      "\u001b[1;31mTypeError\u001b[0m                                 Traceback (most recent call last)",
      "Cell \u001b[1;32mIn[5], line 32\u001b[0m\n\u001b[0;32m     30\u001b[0m high \u001b[38;5;241m=\u001b[39m  \u001b[38;5;28mlen\u001b[39m(arr) \u001b[38;5;241m-\u001b[39m \u001b[38;5;241m1\u001b[39m\n\u001b[0;32m     31\u001b[0m low \u001b[38;5;241m=\u001b[39m \u001b[38;5;241m0\u001b[39m\n\u001b[1;32m---> 32\u001b[0m minmax \u001b[38;5;241m=\u001b[39m \u001b[43mgetMinMax\u001b[49m\u001b[43m(\u001b[49m\u001b[43mlow\u001b[49m\u001b[43m \u001b[49m\u001b[43m,\u001b[49m\u001b[43m \u001b[49m\u001b[43mhigh\u001b[49m\u001b[43m \u001b[49m\u001b[43m,\u001b[49m\u001b[43marr\u001b[49m\u001b[43m)\u001b[49m\n\u001b[0;32m     33\u001b[0m \u001b[38;5;28mprint\u001b[39m(\u001b[38;5;124m\"\u001b[39m\u001b[38;5;124mMinimum element is\u001b[39m\u001b[38;5;124m\"\u001b[39m, minmax[\u001b[38;5;241m0\u001b[39m])\n\u001b[0;32m     34\u001b[0m \u001b[38;5;28mprint\u001b[39m(\u001b[38;5;124m\"\u001b[39m\u001b[38;5;124mMaximum element is\u001b[39m\u001b[38;5;124m\"\u001b[39m, minmax[\u001b[38;5;241m1\u001b[39m])\n",
      "Cell \u001b[1;32mIn[5], line 21\u001b[0m, in \u001b[0;36mgetMinMax\u001b[1;34m(low, high, arr)\u001b[0m\n\u001b[0;32m     19\u001b[0m \u001b[38;5;28;01melse\u001b[39;00m:\n\u001b[0;32m     20\u001b[0m   mid \u001b[38;5;241m=\u001b[39m \u001b[38;5;28mint\u001b[39m((low \u001b[38;5;241m+\u001b[39m high) \u001b[38;5;241m/\u001b[39m \u001b[38;5;241m2\u001b[39m)\n\u001b[1;32m---> 21\u001b[0m   arr_max1, arr_min1 \u001b[38;5;241m=\u001b[39m \u001b[43mgetMinMax\u001b[49m\u001b[43m(\u001b[49m\u001b[43mlow\u001b[49m\u001b[43m,\u001b[49m\u001b[43m \u001b[49m\u001b[43mmid\u001b[49m\u001b[43m,\u001b[49m\u001b[43m \u001b[49m\u001b[43marr\u001b[49m\u001b[43m)\u001b[49m\n\u001b[0;32m     22\u001b[0m   arr_max2, arr_min2 \u001b[38;5;241m=\u001b[39m getMinMax(mid \u001b[38;5;241m+\u001b[39m \u001b[38;5;241m1\u001b[39m, high, arr)\n\u001b[0;32m     23\u001b[0m   \u001b[38;5;28;01mreturn\u001b[39;00m (\u001b[38;5;28mmin\u001b[39m(arr_max1, arr_max2), \u001b[38;5;28mmax\u001b[39m(arr_min1, arr_min2))\n",
      "Cell \u001b[1;32mIn[5], line 23\u001b[0m, in \u001b[0;36mgetMinMax\u001b[1;34m(low, high, arr)\u001b[0m\n\u001b[0;32m     21\u001b[0m arr_max1, arr_min1 \u001b[38;5;241m=\u001b[39m getMinMax(low, mid, arr)\n\u001b[0;32m     22\u001b[0m arr_max2, arr_min2 \u001b[38;5;241m=\u001b[39m getMinMax(mid \u001b[38;5;241m+\u001b[39m \u001b[38;5;241m1\u001b[39m, high, arr)\n\u001b[1;32m---> 23\u001b[0m \u001b[38;5;28;01mreturn\u001b[39;00m (\u001b[38;5;28;43mmin\u001b[39;49m\u001b[43m(\u001b[49m\u001b[43marr_max1\u001b[49m\u001b[43m,\u001b[49m\u001b[43m \u001b[49m\u001b[43marr_max2\u001b[49m\u001b[43m)\u001b[49m, \u001b[38;5;28mmax\u001b[39m(arr_min1, arr_min2))\n",
      "\u001b[1;31mTypeError\u001b[0m: '<' not supported between instances of 'int' and 'builtin_function_or_method'"
     ]
    }
   ],
   "source": [
    "# Maximum and minimum of an array using the Tournament Method:\n",
    "\n",
    "def getMinMax(low , high , arr):\n",
    "    minArr = arr[low]\n",
    "    maxArr = arr[low]\n",
    "\n",
    "\n",
    "    if low == high :\n",
    "      return minArr ,maxArr\n",
    "    \n",
    "    elif high == low + 1:\n",
    "      if arr[low] > arr[high]:\n",
    "        maxArr = arr[low]\n",
    "        minArr = arr[high]\n",
    "      else :\n",
    "        maxArr = arr[high]\n",
    "        minArr = arr[low]\n",
    "      return min , max\n",
    "    else:\n",
    "      mid = int((low + high) / 2)\n",
    "      arr_max1, arr_min1 = getMinMax(low, mid, arr)\n",
    "      arr_max2, arr_min2 = getMinMax(mid + 1, high, arr)\n",
    "      return (min(arr_max1, arr_max2), max(arr_min1, arr_min2))\n",
    "      \n",
    "    \n",
    "    \n",
    "\n",
    "if __name__ == \"__main__\":\n",
    "  arr = [1000, 11, 445, 1, 330, 3000]\n",
    "    high =  len(arr) - 1\n",
    "    low = 0\n",
    "    minmax = getMinMax(low , high ,arr)\n",
    "    print(\"Minimum element is\", minmax[0])\n",
    "    print(\"Maximum element is\", minmax[1])"
   ]
  },
  {
   "cell_type": "code",
   "execution_count": null,
   "id": "d6be979c",
   "metadata": {},
   "outputs": [],
   "source": []
  }
 ],
 "metadata": {
  "kernelspec": {
   "display_name": "Python 3",
   "language": "python",
   "name": "python3"
  },
  "language_info": {
   "codemirror_mode": {
    "name": "ipython",
    "version": 3
   },
   "file_extension": ".py",
   "mimetype": "text/x-python",
   "name": "python",
   "nbconvert_exporter": "python",
   "pygments_lexer": "ipython3",
   "version": "3.11.4"
  }
 },
 "nbformat": 4,
 "nbformat_minor": 5
}
